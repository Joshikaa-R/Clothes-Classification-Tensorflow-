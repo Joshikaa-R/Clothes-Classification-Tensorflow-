{
  "nbformat": 4,
  "nbformat_minor": 0,
  "metadata": {
    "colab": {
      "name": "Classification of Clothes [ Tensorflow].ipynb",
      "provenance": [],
      "collapsed_sections": []
    },
    "kernelspec": {
      "name": "python3",
      "display_name": "Python 3"
    },
    "accelerator": "GPU"
  },
  "cells": [
    {
      "cell_type": "code",
      "metadata": {
        "id": "Jz0MevzMrWl_",
        "colab_type": "code",
        "colab": {
          "base_uri": "https://localhost:8080/",
          "height": 89
        },
        "outputId": "3d80c1d2-6845-4f21-cc6b-248e108b832b"
      },
      "source": [
        "#libraries used\n",
        "from os import listdir\n",
        "from os.path import join\n",
        "import cv2\n",
        "import pandas as pd\n",
        "import os\n",
        "import random\n",
        "import pandas as pd\n",
        "import numpy as np\n",
        "import matplotlib.pyplot as plt\n",
        "from sklearn.utils import shuffle\n",
        "from sklearn.model_selection import train_test_split\n",
        "import seaborn as sns\n",
        "import tensorflow as tf\n",
        "from keras.utils import to_categorical\n",
        "from sklearn.metrics import confusion_matrix\n",
        "import time\n",
        "\n",
        "from sklearn.model_selection import train_test_split\n",
        "from sklearn.metrics import confusion_matrix\n",
        "\n",
        "from keras.utils.np_utils import to_categorical\n",
        "from keras import regularizers\n",
        "from keras.models import Sequential\n",
        "from keras.layers import Dense, Dropout, Flatten, Conv2D, MaxPool2D ,BatchNormalization,GlobalAveragePooling2D\n",
        "\n",
        "from keras.applications.vgg16 import VGG16\n",
        "from keras.applications.vgg16 import preprocess_input as vgg16_pre\n",
        "\n",
        "from keras.applications.vgg19 import VGG19\n",
        "from keras.applications.vgg19 import preprocess_input as vgg19_pre\n",
        "\n",
        "from keras.applications.resnet50 import ResNet50\n",
        "from keras.applications.resnet50 import preprocess_input, decode_predictions\n",
        "\n",
        "from keras.regularizers import l2 , l1\n",
        "from keras import optimizers\n",
        "from keras.optimizers import RMSprop, Adam\n",
        "from keras.callbacks import ModelCheckpoint\n",
        "from keras.preprocessing.image import ImageDataGenerator\n",
        "from keras.callbacks import ReduceLROnPlateau\n",
        "from keras.callbacks import LearningRateScheduler\n",
        "\n",
        "import warnings\n",
        "warnings.filterwarnings('ignore')"
      ],
      "execution_count": 1,
      "outputs": [
        {
          "output_type": "stream",
          "text": [
            "/usr/local/lib/python3.6/dist-packages/statsmodels/tools/_testing.py:19: FutureWarning: pandas.util.testing is deprecated. Use the functions in the public API at pandas.testing instead.\n",
            "  import pandas.util.testing as tm\n",
            "Using TensorFlow backend.\n"
          ],
          "name": "stderr"
        }
      ]
    },
    {
      "cell_type": "code",
      "metadata": {
        "id": "FF_4fMuVsC9E",
        "colab_type": "code",
        "colab": {}
      },
      "source": [
        "!unzip dataset.zip"
      ],
      "execution_count": null,
      "outputs": []
    },
    {
      "cell_type": "code",
      "metadata": {
        "id": "dDAENC86stTc",
        "colab_type": "code",
        "colab": {
          "base_uri": "https://localhost:8080/",
          "height": 35
        },
        "outputId": "e2f19a2e-146f-4003-9d46-006b7ed91f27"
      },
      "source": [
        "!ls"
      ],
      "execution_count": null,
      "outputs": [
        {
          "output_type": "stream",
          "text": [
            "dataset  dataset.zip  sample_data\n"
          ],
          "name": "stdout"
        }
      ]
    },
    {
      "cell_type": "code",
      "metadata": {
        "id": "eWn0QVi9suZB",
        "colab_type": "code",
        "colab": {}
      },
      "source": [
        "angel_sleeve='dataset/angel_sleeve'\n",
        "bell_sleeve='dataset/bell_sleeve'\n",
        "bishop_sleeve='dataset/bishop_sleeve'\n",
        "butterfly_sleeve='dataset/butterfly_sleeve'\n",
        "cap_sleeve='dataset/cap_sleeve'\n",
        "cape_sleeve='dataset/cape_sleeve'\n",
        "cold_shoulder='dataset/cold-shoulder'\n",
        "kimono_sleeve='dataset/kimono_sleeve'\n",
        "long_sleeve='dataset/long_sleeve'\n",
        "puff_sleeve='dataset/puff_sleeve'\n",
        "short_sleeve='dataset/short_sleeve'\n",
        "sleeveless='dataset/sleeveless'\n",
        "thirtyfour_sleeve='dataset/34_sleeve'\n"
      ],
      "execution_count": null,
      "outputs": []
    },
    {
      "cell_type": "code",
      "metadata": {
        "id": "G7rbRve70ALk",
        "colab_type": "code",
        "colab": {}
      },
      "source": [
        "#data reading\n",
        "data_labels = []\n",
        "data_images = []\n",
        "size =224,224\n",
        "def image_read(file1,target_class):\n",
        "        for file in os.listdir(file1):\n",
        "                img = cv2.imread(os.path.join(file1,file))\n",
        "                if(img is not None):\n",
        "                    im = cv2.resize(img,size)\n",
        "                    data_images.append(im)\n",
        "                    data_labels.append(target_class)\n",
        "image_read(angel_sleeve,0)     \n",
        "image_read(bell_sleeve,1)\n",
        "image_read(bishop_sleeve,2)\n",
        "image_read(butterfly_sleeve,3)\n",
        "image_read(cap_sleeve,4)\n",
        "image_read(cape_sleeve,5)\n",
        "image_read(cold_shoulder,6)\n",
        "image_read(kimono_sleeve,7)\n",
        "image_read(long_sleeve,8)\n",
        "image_read(puff_sleeve,9)\n",
        "image_read(short_sleeve,10)\n",
        "image_read(sleeveless,11)\n",
        "image_read(thirtyfour_sleeve,12)\n",
        "data_images,data_labels=shuffle(data_images,data_labels)\n",
        "data_final = np.array(data_images)\n"
      ],
      "execution_count": null,
      "outputs": []
    },
    {
      "cell_type": "code",
      "metadata": {
        "id": "kLhY9Vmj0D0D",
        "colab_type": "code",
        "colab": {
          "base_uri": "https://localhost:8080/",
          "height": 35
        },
        "outputId": "65fda06d-e3dc-4cbc-ffa3-7b66a58e3a3b"
      },
      "source": [
        "data_final.shape"
      ],
      "execution_count": null,
      "outputs": [
        {
          "output_type": "execute_result",
          "data": {
            "text/plain": [
              "(2007, 224, 224, 3)"
            ]
          },
          "metadata": {
            "tags": []
          },
          "execution_count": 5
        }
      ]
    },
    {
      "cell_type": "code",
      "metadata": {
        "id": "eZQkT1Xw0IIe",
        "colab_type": "code",
        "colab": {}
      },
      "source": [
        "#dataset flatten\n",
        "train_flatten = data_final.reshape(data_final.shape[0], -1)\n",
        "data_label=np.array(data_labels)"
      ],
      "execution_count": null,
      "outputs": []
    },
    {
      "cell_type": "code",
      "metadata": {
        "id": "kXWo_4040LMM",
        "colab_type": "code",
        "colab": {}
      },
      "source": [
        "x_train,x_test,y_train,y_test = train_test_split(train_flatten,data_label, test_size=0.10, random_state=42)"
      ],
      "execution_count": null,
      "outputs": []
    },
    {
      "cell_type": "code",
      "metadata": {
        "id": "Javt922pNqzI",
        "colab_type": "code",
        "colab": {
          "base_uri": "https://localhost:8080/",
          "height": 418
        },
        "outputId": "d82612a2-b1bf-4131-fac6-9be8babd7d1d"
      },
      "source": [
        "#preview of images\n",
        "plt.figure(figsize=(20,10))\n",
        "x, y = 10, 1\n",
        "for i in range(0,10):  \n",
        "    plt.subplot(y, x, i+1)\n",
        "    plt.imshow(x_train[i].reshape((32,32,3)),interpolation='nearest',cmap='Greys')\n",
        "    plt.grid(None)\n",
        "    plt.xlabel('class %d' %y_train[i])\n",
        "plt.show()\n",
        "\n",
        "print(\"Label Encodings:\")\n",
        "\n",
        "print(\"angel_sleeve       -> 0\")\n",
        "print(\"bell_sleeve        -> 1\")\n",
        "print(\"bishop_sleeve      -> 2\")\n",
        "print(\"butterfly_sleeve   -> 3\")\n",
        "print(\"cap_sleeve         -> 4\")\n",
        "print(\"cape_sleeve        -> 5\")\n",
        "print(\"cold_shoulder      -> 6\")\n",
        "print(\"kimono_sleeve      -> 7\")\n",
        "print(\"long_sleeve        -> 8\")\n",
        "print(\"puff_sleeve        -> 9\")\n",
        "print(\"short_sleeve       -> 10\")\n",
        "print(\"sleeveless         -> 11\")\n",
        "print(\"thirthyfour_sleeve -> 12\")\n"
      ],
      "execution_count": null,
      "outputs": [
        {
          "output_type": "display_data",
          "data": {
            "image/png": "[encoded data removed]",
            "text/plain": [
              "<Figure size 1440x720 with 10 Axes>"
            ]
          },
          "metadata": {
            "tags": []
          }
        },
        {
          "output_type": "stream",
          "text": [
            "Label Encodings:\n",
            "angel_sleeve       -> 0\n",
            "bell_sleeve        -> 1\n",
            "bishop_sleeve      -> 2\n",
            "butterfly_sleeve   -> 3\n",
            "cap_sleeve         -> 4\n",
            "cape_sleeve        -> 5\n",
            "cold_shoulder      -> 6\n",
            "kimono_sleeve      -> 7\n",
            "long_sleeve        -> 8\n",
            "puff_sleeve        -> 9\n",
            "short_sleeve       -> 10\n",
            "sleeveless         -> 11\n",
            "thirthyfour_sleeve -> 12\n"
          ],
          "name": "stdout"
        }
      ]
    },
    {
      "cell_type": "code",
      "metadata": {
        "id": "35N__F6hN6mJ",
        "colab_type": "code",
        "colab": {
          "base_uri": "https://localhost:8080/",
          "height": 380
        },
        "outputId": "2ddb0990-c679-457d-cfdb-38226b99365a"
      },
      "source": [
        "#plotting output class\n",
        "fig=plt.figure()\n",
        "ax1=fig.add_subplot(211)\n",
        "ax2=fig.add_subplot(212)\n",
        "sns.countplot(y_train,ax=ax1).set_title('Train Class')\n",
        "sns.countplot(y_test,ax=ax2).set_title('Test Class')"
      ],
      "execution_count": null,
      "outputs": [
        {
          "output_type": "execute_result",
          "data": {
            "text/plain": [
              "Text(0.5, 1.0, 'Test Class')"
            ]
          },
          "metadata": {
            "tags": []
          },
          "execution_count": 12
        },
        {
          "output_type": "display_data",
          "data": {
            "image/png": "[encoded data removed]",
            "text/plain": [
              "<Figure size 576x396 with 2 Axes>"
            ]
          },
          "metadata": {
            "tags": []
          }
        }
      ]
    },
    {
      "cell_type": "code",
      "metadata": {
        "id": "USu3jmerRIUH",
        "colab_type": "code",
        "colab": {
          "base_uri": "https://localhost:8080/",
          "height": 35
        },
        "outputId": "01b1db4c-2f04-4e5e-dc81-d38aadba1db1"
      },
      "source": [
        "# Check the null values\n",
        "np.isnan(x_train).sum() , np.isnan(x_test).sum() "
      ],
      "execution_count": null,
      "outputs": [
        {
          "output_type": "execute_result",
          "data": {
            "text/plain": [
              "(0, 0)"
            ]
          },
          "metadata": {
            "tags": []
          },
          "execution_count": 13
        }
      ]
    },
    {
      "cell_type": "code",
      "metadata": {
        "id": "St5FnZWoQ4-t",
        "colab_type": "code",
        "colab": {}
      },
      "source": [
        "# Normalize the data\n",
        "x_train=x_train / 255.0\n",
        "x_test=x_test / 255.0"
      ],
      "execution_count": null,
      "outputs": []
    },
    {
      "cell_type": "code",
      "metadata": {
        "id": "7fLZbKIb0OQL",
        "colab_type": "code",
        "colab": {}
      },
      "source": [
        "#one hot encoding\n",
        "y_train=to_categorical(y_train,13)\n",
        "y_test=to_categorical(y_test,13)"
      ],
      "execution_count": null,
      "outputs": []
    },
    {
      "cell_type": "code",
      "metadata": {
        "id": "OCf-LZk30Zjf",
        "colab_type": "code",
        "colab": {}
      },
      "source": [
        "# Reshape image back to 3 dimensions \n",
        "x_train=x_train.reshape(-1,224,224,3)\n",
        "x_test=x_test.reshape(-1,224,224,3)"
      ],
      "execution_count": null,
      "outputs": []
    },
    {
      "cell_type": "code",
      "metadata": {
        "id": "X-8uBpfy01gi",
        "colab_type": "code",
        "colab": {
          "base_uri": "https://localhost:8080/",
          "height": 35
        },
        "outputId": "8a774fa0-f061-48a9-b6ae-b19d917e6e76"
      },
      "source": [
        "x_train.shape , x_test.shape, y_train.shape, y_test.shape"
      ],
      "execution_count": null,
      "outputs": [
        {
          "output_type": "execute_result",
          "data": {
            "text/plain": [
              "((1806, 224, 224, 3), (201, 224, 224, 3), (1806, 13), (201, 13))"
            ]
          },
          "metadata": {
            "tags": []
          },
          "execution_count": 10
        }
      ]
    },
    {
      "cell_type": "markdown",
      "metadata": {
        "id": "mt73THrR2dk4",
        "colab_type": "text"
      },
      "source": [
        "IMAGE AUGMENTATION"
      ]
    },
    {
      "cell_type": "code",
      "metadata": {
        "id": "n1dGRcM_2gNf",
        "colab_type": "code",
        "colab": {}
      },
      "source": [
        "datagen = ImageDataGenerator(\n",
        "    rescale=1. / 255,\n",
        "    shear_range=0.2,\n",
        "    zoom_range=0.2,\n",
        "    width_shift_range=0.5,  \n",
        "    horizontal_flip=True)\n",
        "\n",
        "test_datagen = ImageDataGenerator(rescale=1. / 255)"
      ],
      "execution_count": null,
      "outputs": []
    },
    {
      "cell_type": "code",
      "metadata": {
        "id": "ibq85g0S2h_t",
        "colab_type": "code",
        "colab": {}
      },
      "source": [
        "datagen.fit(x_train)\n",
        "test_datagen.fit(x_test)"
      ],
      "execution_count": null,
      "outputs": []
    },
    {
      "cell_type": "markdown",
      "metadata": {
        "id": "dnfAjxX23BtX",
        "colab_type": "text"
      },
      "source": [
        "#vgg16 Model"
      ]
    },
    {
      "cell_type": "code",
      "metadata": {
        "colab_type": "code",
        "id": "uqH22Zed3Hid",
        "colab": {}
      },
      "source": [
        "x_train=vgg16_pre(x_train)\n",
        "x_test=vgg16_pre(x_test)"
      ],
      "execution_count": null,
      "outputs": []
    },
    {
      "cell_type": "code",
      "metadata": {
        "colab_type": "code",
        "id": "uXcBkzx53HjU",
        "colab": {
          "base_uri": "https://localhost:8080/",
          "height": 92
        },
        "outputId": "c9a2dfe0-d3e3-468a-9c5b-5def3b8692c4"
      },
      "source": [
        "vgg16=VGG16(weights = 'imagenet', input_shape = (224,224,3),include_top = False)"
      ],
      "execution_count": null,
      "outputs": [
        {
          "output_type": "stream",
          "text": [
            "WARNING:tensorflow:From /usr/local/lib/python3.6/dist-packages/tensorflow/python/framework/op_def_library.py:263: colocate_with (from tensorflow.python.framework.ops) is deprecated and will be removed in a future version.\n",
            "Instructions for updating:\n",
            "Colocations handled automatically by placer.\n"
          ],
          "name": "stdout"
        }
      ]
    },
    {
      "cell_type": "code",
      "metadata": {
        "colab_type": "code",
        "id": "PM_y3AQM3Hjw",
        "colab": {}
      },
      "source": [
        "for layer in vgg16.layers:\n",
        "    layer.trainable = False\n",
        "\n",
        "for layer in vgg16.layers:\n",
        "    print(layer, layer.trainable)"
      ],
      "execution_count": null,
      "outputs": []
    },
    {
      "cell_type": "code",
      "metadata": {
        "colab_type": "code",
        "id": "Am3gojlE3HkS",
        "colab": {}
      },
      "source": [
        "model = Sequential()\n",
        "model.add(vgg16)\n",
        "model.add(Flatten())\n",
        "model.add(Dense(1024, activation = 'relu'))\n",
        "model.add(BatchNormalization())\n",
        "model.add(Dropout(0.5))\n",
        "model.add(Dense(13, activation = 'softmax'))"
      ],
      "execution_count": null,
      "outputs": []
    },
    {
      "cell_type": "code",
      "metadata": {
        "colab_type": "code",
        "id": "V0uIHk6t3Hk0",
        "colab": {}
      },
      "source": [
        "model.load_weights(\"weights_vgg16.hdf5\")\n",
        "model.compile(loss='categorical_crossentropy',\n",
        "              optimizer=optimizers.RMSprop(lr=1e-4),\n",
        "              metrics=['acc'])\n",
        "\n",
        "checkpoint = ModelCheckpoint('weights_vgg16_imageaug.hdf5', monitor='val_acc', verbose=1, save_best_only=True, mode='max')\n",
        "callbacks_list = [checkpoint]"
      ],
      "execution_count": null,
      "outputs": []
    },
    {
      "cell_type": "code",
      "metadata": {
        "colab_type": "code",
        "id": "94FMzuz63HlP",
        "colab": {}
      },
      "source": [
        "#hyper parameters\n",
        "epochs=15\n",
        "batch_size =64"
      ],
      "execution_count": null,
      "outputs": []
    },
    {
      "cell_type": "code",
      "metadata": {
        "id": "BHCQSbME4AOQ",
        "colab_type": "code",
        "colab": {}
      },
      "source": [
        "datagen = ImageDataGenerator(\n",
        "    rescale=1. / 255,\n",
        "    shear_range=0.2,\n",
        "    zoom_range=0.2,\n",
        "    width_shift_range=0.5)\n",
        "\n",
        "test_datagen = ImageDataGenerator(rescale=1. / 255)"
      ],
      "execution_count": null,
      "outputs": []
    },
    {
      "cell_type": "code",
      "metadata": {
        "id": "CqPzb0_W4Hod",
        "colab_type": "code",
        "colab": {}
      },
      "source": [
        "datagen.fit(x_train)\n",
        "test_datagen.fit(x_test)"
      ],
      "execution_count": null,
      "outputs": []
    },
    {
      "cell_type": "code",
      "metadata": {
        "colab_type": "code",
        "id": "CuJxLvoQ3Hli",
        "colab": {
          "base_uri": "https://localhost:8080/",
          "height": 1145
        },
        "outputId": "ac0e6877-5801-497e-ed08-6878029eb807"
      },
      "source": [
        "history = model.fit_generator(datagen.flow(x_train,y_train, batch_size=batch_size),epochs = epochs, validation_data = (x_test,y_test), steps_per_epoch=x_train.shape[0] // batch_size, callbacks=callbacks_list)"
      ],
      "execution_count": null,
      "outputs": [
        {
          "output_type": "stream",
          "text": [
            "Epoch 1/15\n",
            "28/28 [==============================] - 28s 999ms/step - loss: 1.0342 - acc: 0.6747 - val_loss: 1.4772 - val_acc: 0.8905\n",
            "\n",
            "Epoch 00001: val_acc improved from -inf to 0.89055, saving model to weights_vgg16_imageaug.hdf5\n",
            "Epoch 2/15\n",
            "28/28 [==============================] - 25s 900ms/step - loss: 0.9614 - acc: 0.7015 - val_loss: 1.6038 - val_acc: 0.9005\n",
            "\n",
            "Epoch 00002: val_acc improved from 0.89055 to 0.90050, saving model to weights_vgg16_imageaug.hdf5\n",
            "Epoch 3/15\n",
            "28/28 [==============================] - 26s 917ms/step - loss: 0.9583 - acc: 0.6910 - val_loss: 1.8358 - val_acc: 0.8806\n",
            "\n",
            "Epoch 00003: val_acc did not improve from 0.90050\n",
            "Epoch 4/15\n",
            "28/28 [==============================] - 26s 914ms/step - loss: 0.9121 - acc: 0.7022 - val_loss: 1.8332 - val_acc: 0.8856\n",
            "\n",
            "Epoch 00004: val_acc did not improve from 0.90050\n",
            "Epoch 5/15\n",
            "28/28 [==============================] - 25s 906ms/step - loss: 0.8828 - acc: 0.7170 - val_loss: 1.8957 - val_acc: 0.8806\n",
            "\n",
            "Epoch 00005: val_acc did not improve from 0.90050\n",
            "Epoch 6/15\n",
            "28/28 [==============================] - 25s 910ms/step - loss: 0.8849 - acc: 0.7139 - val_loss: 1.7849 - val_acc: 0.8806\n",
            "\n",
            "Epoch 00006: val_acc did not improve from 0.90050\n",
            "Epoch 7/15\n",
            "28/28 [==============================] - 25s 901ms/step - loss: 0.8215 - acc: 0.7332 - val_loss: 1.9025 - val_acc: 0.8756\n",
            "\n",
            "Epoch 00007: val_acc did not improve from 0.90050\n",
            "Epoch 8/15\n",
            "28/28 [==============================] - 26s 911ms/step - loss: 0.8537 - acc: 0.7218 - val_loss: 1.6840 - val_acc: 0.8955\n",
            "\n",
            "Epoch 00008: val_acc did not improve from 0.90050\n",
            "Epoch 9/15\n",
            "28/28 [==============================] - 25s 905ms/step - loss: 0.7694 - acc: 0.7311 - val_loss: 1.8597 - val_acc: 0.8706\n",
            "\n",
            "Epoch 00009: val_acc did not improve from 0.90050\n",
            "Epoch 10/15\n",
            "28/28 [==============================] - 25s 899ms/step - loss: 0.7758 - acc: 0.7547 - val_loss: 1.9993 - val_acc: 0.8706\n",
            "\n",
            "Epoch 00010: val_acc did not improve from 0.90050\n",
            "Epoch 11/15\n",
            "28/28 [==============================] - 25s 908ms/step - loss: 0.7684 - acc: 0.7571 - val_loss: 2.3869 - val_acc: 0.8458\n",
            "\n",
            "Epoch 00011: val_acc did not improve from 0.90050\n",
            "Epoch 12/15\n",
            "28/28 [==============================] - 25s 906ms/step - loss: 0.7345 - acc: 0.7592 - val_loss: 2.4805 - val_acc: 0.8408\n",
            "\n",
            "Epoch 00012: val_acc did not improve from 0.90050\n",
            "Epoch 13/15\n",
            "28/28 [==============================] - 25s 896ms/step - loss: 0.6958 - acc: 0.7731 - val_loss: 2.5278 - val_acc: 0.8408\n",
            "\n",
            "Epoch 00013: val_acc did not improve from 0.90050\n",
            "Epoch 14/15\n",
            "28/28 [==============================] - 25s 897ms/step - loss: 0.6547 - acc: 0.7881 - val_loss: 2.2597 - val_acc: 0.8557\n",
            "\n",
            "Epoch 00014: val_acc did not improve from 0.90050\n",
            "Epoch 15/15\n",
            "28/28 [==============================] - 25s 907ms/step - loss: 0.6708 - acc: 0.7848 - val_loss: 2.5093 - val_acc: 0.8358\n",
            "\n",
            "Epoch 00015: val_acc did not improve from 0.90050\n"
          ],
          "name": "stdout"
        }
      ]
    }
  ]
}